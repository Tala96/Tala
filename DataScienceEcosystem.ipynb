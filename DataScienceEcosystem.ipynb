{
 "cells": [
  {
   "cell_type": "markdown",
   "id": "ef7da315-10f5-411f-8e9e-35cb13afb637",
   "metadata": {
    "tags": []
   },
   "source": [
    "# H1 Data Science Tools and Ecosystem"
   ]
  },
  {
   "cell_type": "markdown",
   "id": "669fd50a-d081-48da-a762-4fc52289211a",
   "metadata": {},
   "source": [
    "In this notebook, Data Science Tools and Ecosystem are summarized."
   ]
  },
  {
   "cell_type": "markdown",
   "id": "0f7864fd-e818-4f8c-96be-fb06ae048272",
   "metadata": {},
   "source": [
    "**Objectives:**"
   ]
  },
  {
   "cell_type": "markdown",
   "id": "c27c9521-5f0d-4390-b744-09c52edbb1ae",
   "metadata": {},
   "source": [
    "- List Popular languages for Data Science\n",
    "- Commonly used libraries used by data scientists\n",
    "- Data science tools"
   ]
  },
  {
   "cell_type": "markdown",
   "id": "45835271-9743-4b84-90ac-0fd664f80bd0",
   "metadata": {},
   "source": [
    "Some of the popular languages that Data Scientists use are:"
   ]
  },
  {
   "cell_type": "markdown",
   "id": "734f9b33-a98b-4b31-8eb3-d14fea16728d",
   "metadata": {},
   "source": [
    "1. Java\n",
    "2. Python\n",
    "3. R"
   ]
  },
  {
   "cell_type": "markdown",
   "id": "97ccf5c7-6208-4fe0-8418-d7b6d68d8c4f",
   "metadata": {},
   "source": [
    "Some of the commonly used libraries used by Data Scientists include:"
   ]
  },
  {
   "cell_type": "markdown",
   "id": "9f814da7-5d77-4fc6-87a0-6a3749fb62cf",
   "metadata": {},
   "source": [
    "1. NumPy\n",
    "2. Scrapy\n",
    "3. Keras"
   ]
  },
  {
   "cell_type": "markdown",
   "id": "5a990aaf-3241-4aa5-bec3-47865b5bb60d",
   "metadata": {},
   "source": [
    "| Data Science Tools |\n",
    "|--------------------|\n",
    "| Anaconda           |\n",
    "| Jupyter Notebooks  |\n",
    "| PyCharm            |"
   ]
  },
  {
   "cell_type": "markdown",
   "id": "dbb33436-fe68-43d1-ba7f-270858bdc5fe",
   "metadata": {},
   "source": [
    "# H3 Below are a few examples of evaluating arithmetic expressions in Python"
   ]
  },
  {
   "cell_type": "markdown",
   "id": "a076d8df-c653-4680-835a-11a430e565a8",
   "metadata": {},
   "source": [
    "This a simple arithmetic expression to mutiply then add integers"
   ]
  },
  {
   "cell_type": "code",
   "execution_count": 1,
   "id": "2b63ceb9-a41e-4588-a72d-dbdcf587c299",
   "metadata": {
    "tags": []
   },
   "outputs": [
    {
     "data": {
      "text/plain": [
       "17"
      ]
     },
     "execution_count": 1,
     "metadata": {},
     "output_type": "execute_result"
    }
   ],
   "source": [
    "(3*4)+5"
   ]
  },
  {
   "cell_type": "markdown",
   "id": "0d34b72c-beed-4db1-b688-e89655b5b97f",
   "metadata": {},
   "source": [
    " This will convert 200 minutes to hours by diving by 60"
   ]
  },
  {
   "cell_type": "code",
   "execution_count": 2,
   "id": "fb8a96cf-fd26-42a3-9444-b1957829b103",
   "metadata": {
    "tags": []
   },
   "outputs": [
    {
     "data": {
      "text/plain": [
       "3.3333333333333335"
      ]
     },
     "execution_count": 2,
     "metadata": {},
     "output_type": "execute_result"
    }
   ],
   "source": [
    "200/60"
   ]
  },
  {
   "cell_type": "markdown",
   "id": "6b073571-5dce-411e-8150-c0fbb905b26e",
   "metadata": {},
   "source": [
    "# H2 Author "
   ]
  },
  {
   "cell_type": "markdown",
   "id": "feb96b01-ef56-48ad-b2fb-b441f0e5c56d",
   "metadata": {},
   "source": [
    "Tala "
   ]
  },
  {
   "cell_type": "code",
   "execution_count": null,
   "id": "3fb6860e-ae9e-418d-9c2d-900f134b0241",
   "metadata": {},
   "outputs": [],
   "source": []
  }
 ],
 "metadata": {
  "kernelspec": {
   "display_name": "Python",
   "language": "python",
   "name": "conda-env-python-py"
  },
  "language_info": {
   "codemirror_mode": {
    "name": "ipython",
    "version": 3
   },
   "file_extension": ".py",
   "mimetype": "text/x-python",
   "name": "python",
   "nbconvert_exporter": "python",
   "pygments_lexer": "ipython3",
   "version": "3.7.12"
  }
 },
 "nbformat": 4,
 "nbformat_minor": 5
}
